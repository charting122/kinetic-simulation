{
 "cells": [
  {
   "cell_type": "markdown",
   "metadata": {
    "deletable": false,
    "editable": false,
    "nbgrader": {
     "cell_type": "markdown",
     "checksum": "299ef3489eaff13de1937fb7afa5a324",
     "grade": false,
     "grade_id": "cell-143e07fdb29fa8ab",
     "locked": true,
     "schema_version": 3,
     "solution": false
    }
   },
   "source": [
    "# Presentation Notebook - Final Project 3: `kinetic`\n",
    "\n",
    "This notebook contains physics questions to be answered as part of the `kinetic` final project - see companion assignment notebook for details."
   ]
  },
  {
   "cell_type": "markdown",
   "metadata": {
    "deletable": false,
    "editable": false,
    "nbgrader": {
     "cell_type": "markdown",
     "checksum": "a823e27933c542e5acd4fe2d95d82b0c",
     "grade": false,
     "grade_id": "cell-9361ec810d67b07c",
     "locked": true,
     "schema_version": 3,
     "solution": false
    }
   },
   "source": [
    "## Honor Code Pledge\n",
    "\n",
    "Please type your name in the box below to agree to the Honor Code Pledge for this assignment:\n",
    "\n",
    "__\"On my honor, as a University of Colorado Boulder student, I have neither given nor received unauthorized assistance.\"__"
   ]
  },
  {
   "cell_type": "markdown",
   "metadata": {
    "deletable": false,
    "nbgrader": {
     "cell_type": "markdown",
     "checksum": "273c3ad184d2c9a2c5b2119b01ce8ec3",
     "grade": true,
     "grade_id": "cell-a257c56d54421841",
     "locked": false,
     "points": 20,
     "schema_version": 3,
     "solution": true
    }
   },
   "source": [
    "Colman Hartinger"
   ]
  },
  {
   "cell_type": "code",
   "execution_count": 10,
   "metadata": {
    "scrolled": false
   },
   "outputs": [],
   "source": [
    "# Import cell\n",
    "%matplotlib inline\n",
    "from kinetic import *"
   ]
  },
  {
   "cell_type": "markdown",
   "metadata": {
    "deletable": false,
    "editable": false,
    "nbgrader": {
     "cell_type": "markdown",
     "checksum": "ddb07db395f25ad049d3ff9cc849bf45",
     "grade": false,
     "grade_id": "cell-32a242f48cb1212c",
     "locked": true,
     "schema_version": 3,
     "solution": false
    }
   },
   "source": [
    "# Physics Questions\n",
    "\n",
    "Add cells below as necessary to answer each of the physics questions.\n",
    "\n",
    "__Make sure your notebook runs with no errors by using the \"Restart & Run All\" command before you submit!__\n",
    "\n",
    "For all of the below, a simulation of __100 particles__ should be sufficient (you can use more if you like, but it may be very slow to run depending on how efficient your code is!)  Unless stated otherwise, all particles should have the same mass."
   ]
  },
  {
   "cell_type": "markdown",
   "metadata": {},
   "source": [
    "### 0. setting up simulation"
   ]
  },
  {
   "cell_type": "code",
   "execution_count": 12,
   "metadata": {
    "scrolled": false
   },
   "outputs": [],
   "source": [
    "N,L,v,r,m = 100,100,1,1,1\n",
    "r_state = random_initial_state(N, L, v, r, m)\n"
   ]
  },
  {
   "cell_type": "code",
   "execution_count": null,
   "metadata": {},
   "outputs": [
    {
     "name": "stdout",
     "output_type": "stream",
     "text": [
      "wall collision, ((54, 'W')), dt = 0.105315\n",
      "wall collision, ((32, 'S')), dt = 0.0171092\n",
      "wall collision, ((8, 'W')), dt = 0.0105339\n",
      "wall collision, ((26, 'S')), dt = 0.0107469\n",
      "wall collision, ((30, 'W')), dt = 0.151831\n",
      "sphere collision, ((25, 61)), dt = 0.925126\n",
      "sphere collision, ((25, 61)), dt = 0.000927262\n",
      "sphere collision, ((73, 91)), dt = 0.069646\n",
      "sphere collision, ((73, 91)), dt = 1.71867\n",
      "sphere collision, ((73, 91)), dt = 0.00172131\n",
      "sphere collision, ((19, 27)), dt = 0.00534777\n",
      "wall collision, ((77, 'S')), dt = 0.0565398\n",
      "sphere collision, ((84, 86)), dt = 0.350099\n",
      "sphere collision, ((72, 86)), dt = 0.0799902\n",
      "sphere collision, ((73, 91)), dt = 0.431832\n",
      "sphere collision, ((73, 91)), dt = 0.000432496\n",
      "wall collision, ((83, 'N')), dt = 0.102898\n",
      "wall collision, ((34, 'S')), dt = 0.286473\n",
      "wall collision, ((21, 'W')), dt = 0.274358\n",
      "sphere collision, ((14, 54)), dt = 0.00827859\n",
      "sphere collision, ((15, 65)), dt = 0.392729\n",
      "sphere collision, ((15, 65)), dt = 0.000392767\n",
      "wall collision, ((80, 'N')), dt = 0.0299243\n",
      "sphere collision, ((84, 88)), dt = 0.0384888\n",
      "wall collision, ((57, 'N')), dt = 0.326308\n",
      "sphere collision, ((30, 38)), dt = 0.115094\n",
      "wall collision, ((3, 'E')), dt = 0.0598846\n",
      "sphere collision, ((73, 91)), dt = 0.475226\n",
      "sphere collision, ((73, 91)), dt = 0.000475255\n",
      "wall collision, ((56, 'W')), dt = 0.0648955\n",
      "wall collision, ((37, 'N')), dt = 0.0911997\n",
      "sphere collision, ((53, 60)), dt = 0.112141\n",
      "sphere collision, ((9, 44)), dt = 0.870564\n",
      "sphere collision, ((9, 44)), dt = 0.000871008\n",
      "sphere collision, ((13, 57)), dt = 0.235592\n",
      "sphere collision, ((0, 84)), dt = 0.354254\n",
      "sphere collision, ((81, 94)), dt = 0.154031\n",
      "wall collision, ((30, 'W')), dt = 0.156809\n",
      "sphere collision, ((49, 68)), dt = 0.544359\n",
      "sphere collision, ((49, 68)), dt = 0.000544564\n",
      "wall collision, ((96, 'W')), dt = 0.00154531\n",
      "sphere collision, ((2, 65)), dt = 0.743549\n",
      "sphere collision, ((2, 65)), dt = 0.000743551\n",
      "sphere collision, ((35, 39)), dt = 0.0452828\n",
      "sphere collision, ((55, 85)), dt = 0.0786966\n",
      "sphere collision, ((53, 71)), dt = 0.0600504\n",
      "sphere collision, ((50, 65)), dt = 0.0526464\n",
      "sphere collision, ((39, 49)), dt = 0.12673\n",
      "sphere collision, ((35, 49)), dt = 0.074222\n",
      "wall collision, ((70, 'E')), dt = 0.122555\n",
      "wall collision, ((13, 'N')), dt = 0.101291\n",
      "sphere collision, ((17, 93)), dt = 0.560872\n",
      "sphere collision, ((17, 93)), dt = 0.000561418\n",
      "wall collision, ((16, 'W')), dt = 0.146909\n",
      "sphere collision, ((22, 52)), dt = 0.00502624\n",
      "sphere collision, ((31, 79)), dt = 0.0236445\n",
      "sphere collision, ((15, 65)), dt = 0.0933555\n",
      "sphere collision, ((25, 40)), dt = 0.522888\n",
      "sphere collision, ((25, 40)), dt = 0.00052289\n",
      "sphere collision, ((0, 50)), dt = 0.205114\n",
      "sphere collision, ((5, 84)), dt = 0.0518982\n",
      "wall collision, ((54, 'S')), dt = 0.0458744\n",
      "sphere collision, ((60, 64)), dt = 0.0413004\n",
      "sphere collision, ((16, 80)), dt = 0.125354\n",
      "sphere collision, ((1, 47)), dt = 0.291628\n",
      "wall collision, ((12, 'S')), dt = 0.0987565\n",
      "sphere collision, ((17, 93)), dt = 0.580667\n",
      "sphere collision, ((17, 93)), dt = 0.000580751\n",
      "sphere collision, ((16, 80)), dt = 0.754926\n",
      "sphere collision, ((16, 80)), dt = 0.000755357\n",
      "sphere collision, ((1, 47)), dt = 0.415294\n",
      "sphere collision, ((1, 47)), dt = 0.000415448\n",
      "wall collision, ((97, 'N')), dt = 0.0338052\n",
      "sphere collision, ((22, 52)), dt = 0.368916\n",
      "sphere collision, ((22, 52)), dt = 0.000368983\n",
      "sphere collision, ((23, 32)), dt = 0.0220553\n",
      "sphere collision, ((11, 84)), dt = 0.0301524\n",
      "sphere collision, ((47, 61)), dt = 0.118608\n",
      "sphere collision, ((9, 44)), dt = 0.873504\n",
      "sphere collision, ((9, 44)), dt = 0.000873519\n",
      "sphere collision, ((71, 94)), dt = 0.167824\n",
      "sphere collision, ((71, 94)), dt = 0.49205\n",
      "sphere collision, ((71, 94)), dt = 0.000493847\n",
      "wall collision, ((67, 'N')), dt = 0.032964\n",
      "sphere collision, ((50, 78)), dt = 0.0509581\n",
      "wall collision, ((85, 'N')), dt = 0.111228\n",
      "sphere collision, ((48, 69)), dt = 0.0711823\n",
      "wall collision, ((16, 'W')), dt = 0.0164603\n",
      "sphere collision, ((8, 56)), dt = 0.0228272\n",
      "sphere collision, ((61, 96)), dt = 0.0944365\n",
      "sphere collision, ((27, 37)), dt = 0.846958\n",
      "sphere collision, ((27, 37)), dt = 0.000847055\n",
      "sphere collision, ((30, 87)), dt = 0.129692\n",
      "sphere collision, ((33, 56)), dt = 0.659559\n",
      "sphere collision, ((33, 56)), dt = 0.000660391\n",
      "sphere collision, ((11, 13)), dt = 0.239608\n",
      "sphere collision, ((8, 56)), dt = 0.483329\n",
      "sphere collision, ((8, 56)), dt = 0.000483364\n",
      "sphere collision, ((37, 57)), dt = 0.0749357\n",
      "sphere collision, ((17, 64)), dt = 0.717406\n",
      "sphere collision, ((17, 64)), dt = 0.000719485\n",
      "sphere collision, ((33, 56)), dt = 0.281666\n",
      "sphere collision, ((33, 56)), dt = 0.000281715\n",
      "sphere collision, ((22, 71)), dt = 0.138064\n",
      "sphere collision, ((17, 64)), dt = 2.11811\n",
      "sphere collision, ((17, 64)), dt = 0.00212176\n",
      "sphere collision, ((15, 74)), dt = 0.147098\n",
      "wall collision, ((61, 'W')), dt = 0.0339655\n"
     ]
    }
   ],
   "source": [
    "times,states = simulate_gas(r_state,50,100)"
   ]
  },
  {
   "cell_type": "markdown",
   "metadata": {},
   "source": [
    "Animation doesnt run copmletly as expected, if perfect animation is desired use get_State_At_time_t in between each collision at appropriate time step otherwise some particles may apeat to pass over eachother"
   ]
  },
  {
   "cell_type": "code",
   "execution_count": null,
   "metadata": {},
   "outputs": [],
   "source": [
    "fig, ax = plt.subplots(figsize=(8,8))\n",
    "\n",
    "ax.set_xlim(0,L)\n",
    "ax.set_ylim(0,L)\n",
    "\n",
    "\n",
    "\n",
    "frames = []\n",
    "frames_1 =[]\n",
    "for t in np.linspace(0,50,100):\n",
    "    \n",
    "    frames.append(plot_state_frame(ax, get_state_at_time(t, times, states)))\n",
    "\n",
    "'''for state in states1\n",
    "    frames_1.append(plot_state_frame(ax,state))'''\n",
    "                    \n",
    "ani = animation.ArtistAnimation(fig, frames, interval=10, blit=True, repeat=False)\n",
    "plt.close(fig)  ## Stops Jupyter from showing the last frame alongside the animated plot\n",
    "\n",
    "HTML(ani.to_jshtml())"
   ]
  },
  {
   "cell_type": "markdown",
   "metadata": {
    "deletable": false,
    "editable": false,
    "nbgrader": {
     "cell_type": "markdown",
     "checksum": "e387a84483095a5f9bbe90385c2c0ec5",
     "grade": false,
     "grade_id": "cell-654b697fc5411f33",
     "locked": true,
     "schema_version": 3,
     "solution": false
    }
   },
   "source": [
    "### 1. Testing with energy and momentum\n",
    "\n",
    "Since all of the sphere collisions are elastic and the wall collisions preserve the speed of the colliding sphere, we expect _total energy_ to be conserved.  However, momentum will _not_ be conserved.  Run a simulation and verify that both of these statements are true (at least approximately) for your code.\n",
    "\n",
    "Another great check: use the plotting code provided to animate the evolution of your gas.  It's really easy to spot problems by just watching the system evolve!"
   ]
  },
  {
   "cell_type": "markdown",
   "metadata": {},
   "source": [
    "To check that energy is conserved run 10 second simulation of 50 particles in a box of size 100. assume no outside or central forces are acting on particle. That is $E_{particle} = \\frac{1}{2}mv^2$ and $ E_{total} = \\sum_0^{n-1}{E_{particle}}$ through superposition.\n",
    "\n",
    "and of course $\\vec{P}= m \\vec{v}$ comparing the momentum of a single particle from initial state and final state will show that momentum is not conserved"
   ]
  },
  {
   "cell_type": "code",
   "execution_count": null,
   "metadata": {
    "scrolled": false
   },
   "outputs": [],
   "source": [
    "def sum_E(state):\n",
    "    '''\n",
    "    takes state\n",
    "    m,r,x,y,vx,vy\n",
    "    sums 1/2 mv2 for all particles\n",
    "    '''\n",
    "    energy=0\n",
    "    for m0,r0,v0,x0,vx0,vy0 in state:\n",
    "        v= np.sqrt(vx0**2+vy0**2)\n",
    "        energy+=(m0*v**2)/2\n",
    "    return energy \n"
   ]
  },
  {
   "cell_type": "code",
   "execution_count": null,
   "metadata": {
    "scrolled": false
   },
   "outputs": [],
   "source": [
    "sum_E(r_state)"
   ]
  },
  {
   "cell_type": "markdown",
   "metadata": {},
   "source": [
    "given the starting state there is a total energy of 50 joules assuming m/s and kg"
   ]
  },
  {
   "cell_type": "code",
   "execution_count": null,
   "metadata": {
    "scrolled": true
   },
   "outputs": [],
   "source": [
    "sum_E(states[-1])"
   ]
  },
  {
   "cell_type": "markdown",
   "metadata": {},
   "source": [
    "And summing the energy of final state 50 joules is also obtained \n",
    "\n",
    "##### thus Energy is conserved"
   ]
  },
  {
   "cell_type": "markdown",
   "metadata": {},
   "source": [
    "To test momentum conservation all we need is a particle that had a sphere type collision.In section 0 from the random state picking any sphere collision will do. For this particular case i chose indice 60"
   ]
  },
  {
   "cell_type": "code",
   "execution_count": null,
   "metadata": {
    "scrolled": false
   },
   "outputs": [],
   "source": [
    "def pick_state(i):\n",
    "    particle_i= r_state[i]\n",
    "    m=particle_i[0]\n",
    "\n",
    "    v_i = particle_i[4],particle_i[5]\n",
    "    P_i = m*v_i\n",
    "\n",
    "    particle_f= states[-1][i]\n",
    "\n",
    "    v_f = particle_f[4],particle_f[5]\n",
    "    P_f = m*v_f\n",
    "\n",
    "    assert P_f != P_i\n",
    "    return(P_f,P_i)\n",
    "    "
   ]
  },
  {
   "cell_type": "code",
   "execution_count": null,
   "metadata": {
    "scrolled": true
   },
   "outputs": [],
   "source": [
    "rand_num = random.randint(0,100)\n",
    "a,b=pick_state(rand_num)\n",
    "np.sqrt(a[0]**2+a[1]**2)"
   ]
  },
  {
   "cell_type": "markdown",
   "metadata": {},
   "source": [
    "##### and as seen in the above lines of code momenum is not conserved if assertation error run above line again particle may have not had a sphere collision"
   ]
  },
  {
   "cell_type": "markdown",
   "metadata": {
    "deletable": false,
    "editable": false,
    "nbgrader": {
     "cell_type": "markdown",
     "checksum": "4a85bd213eba0a48a4d85091df34ba40",
     "grade": false,
     "grade_id": "cell-403ceee6eee7f4da",
     "locked": true,
     "schema_version": 3,
     "solution": false
    }
   },
   "source": [
    "### 2. Thermalization and the Maxwell-Boltzmann distribution\n",
    "\n",
    "Start with an initial distribution of identical particles, randomly placed inside of the box but _all with the same speed_.  Plot the distribution of speed over time, and show that as the system thermalizes, it approaches the two-dimensional Maxwell-Boltzmann distribution,\n",
    "\n",
    "$$\n",
    "p(v) = \\frac{m}{kT} v \\exp \\left(-\\frac{m}{2kT} v^2 \\right)\n",
    "$$\n",
    "\n",
    "_Note:_ the temperature of the gas is determined by the initial speed - even though temperature is not well-defined until the system is in equilibrium, we can argue by conservation of energy.  By equipartition, we expect\n",
    "\n",
    "$$\n",
    "E = NkT = \\frac{N}{2} m \\langle v^2 \\rangle\n",
    "$$\n",
    "\n",
    "so the temperature for a starting distribution with identical speeds $v_0$ is  \n",
    "\n",
    "$$\n",
    "T = \\frac{m}{2k} v_0^2.\n",
    "$$\n",
    "\n"
   ]
  },
  {
   "cell_type": "code",
   "execution_count": null,
   "metadata": {},
   "outputs": [],
   "source": [
    "sim = simulate_gas(r_state,1000,100)"
   ]
  },
  {
   "cell_type": "code",
   "execution_count": null,
   "metadata": {},
   "outputs": [],
   "source": [
    "def Temp(m,v0):\n",
    "    T=(m/(2*k))*v0**2\n",
    "    return T"
   ]
  },
  {
   "cell_type": "code",
   "execution_count": null,
   "metadata": {},
   "outputs": [],
   "source": [
    "m ,v0 =1,1\n",
    "c1 = m/(k*Temp(m,v0))\n",
    "c2 = -c1/2\n",
    "\n",
    "def func(v):\n",
    "    return c1*v*np.exp(c2*v**2)\n",
    "\n",
    "t=np.linspace(0,10,1000)\n",
    "\n"
   ]
  },
  {
   "cell_type": "code",
   "execution_count": null,
   "metadata": {
    "scrolled": false
   },
   "outputs": [],
   "source": [
    "t_v = []\n",
    "#final_sim = (times,states)\n",
    "for i in range(len(states)) :\n",
    "    state=states[i]\n",
    "    v_list=[]\n",
    "    for mo,ro,xo,yo,vx0,vyo in state:\n",
    "        v= (vx0**2+vyo**2)\n",
    "        t_v.append((times[i],v))\n",
    "        \n",
    "\n",
    "        \n",
    "x= [it[0] for it in t_v]\n",
    "y= [it[1] for it in t_v]\n",
    "plt.plot(t,func(t))\n",
    "plt.xlabel('Velocity')\n",
    "plt.ylabel('$P(v)$')\n",
    "plt.hist(y,bins=5,density = True)              \n",
    "plt.xlim((0,4))\n",
    "plt.show()"
   ]
  },
  {
   "cell_type": "markdown",
   "metadata": {},
   "source": [
    "As can be seen above the histogram of velocities and theoretical distributions of velocity take the same shape "
   ]
  },
  {
   "cell_type": "markdown",
   "metadata": {
    "deletable": false,
    "editable": false,
    "nbgrader": {
     "cell_type": "markdown",
     "checksum": "ab735c2633533c535c8b42a5be05933e",
     "grade": false,
     "grade_id": "cell-489d4fffab529961",
     "locked": true,
     "schema_version": 3,
     "solution": false
    }
   },
   "source": [
    "### 3. Extracting the van der Waals gas law\n",
    "\n",
    "Consider a gas of nitrogen molecules: take $r = 0.2$ nm and $m = 28$ amu.  Measure the pressure and try both varying the volume $V$ with temperature $T$ fixed, or varying the temperature $T$ with volume $V$ fixed.  (Do these variations by __running multiple simulations__; don't try to make the simulation alter the box size or temperature while running!)  Show that you recover the van der Waals gas law with $a=0$ but $b \\neq 0$.  Use least-squares fitting to extract the value of $b$ numerically from your simulation results.\n",
    "\n"
   ]
  },
  {
   "cell_type": "markdown",
   "metadata": {},
   "source": [
    "$$\n",
    "P = \\frac{Nm}{V} \\langle v_x^2 \\rangle\n",
    "$$\n",
    "where $\\langle ... \\rangle$ denotes the \"thermodynamic average\" over all the particles.\n",
    "\n",
    "Now, we did this on a single wall in the $x$-direction, because (due to symmetry) the pressure on any wall will be the same.  However, we need to account for the fact that particles are moving in $d$ dimensions, which means that\n",
    "\n",
    "$$\n",
    "v^2 = \\sum_{i=1}^d v_i^2.\n",
    "$$\n",
    "\n",
    "Once again, by symmetry the _average_ velocity components in any direction must be the same, so we can rewrite\n",
    "\n",
    "$$\n",
    "\\langle v^2 \\rangle = d \\langle v_x^2 \\rangle.\n",
    "$$\n",
    "\n",
    "The $1/d$ from this cancels out the $d$ from equipartition, and we end up with the ideal gas law - no matter what $d$ is!  So the ideal gas law is the same in two dimensions.  (More importantly, the pieces of this derivation will be useful when you want to calculate things like pressure and temperature from your simulation...)\n",
    "\n",
    "The simplest modification we can make is to assume a __finite radius $R$__ for the gas molecules.  This change modifies the behavior away from ideal gas, leading to (part of) the __van der Waals equation__:\n",
    "\n",
    "$$\n",
    "\\left(P + \\frac{N^2 a}{V^2} \\right) \\left(V - Nb \\right) = NkT\n",
    "$$\n",
    "$$\n",
    "P   = \\frac{NkT}{\\left(V - Nb \\right)}-\\frac{N^2 a}{V^2} \n",
    "$$"
   ]
  },
  {
   "cell_type": "markdown",
   "metadata": {},
   "source": [
    "run tests as described above to get set of pressures, run least squares on above function with determined pressures"
   ]
  },
  {
   "cell_type": "code",
   "execution_count": null,
   "metadata": {},
   "outputs": [],
   "source": [
    "r,m,L = .2, 28, 2\n",
    "V=L**3"
   ]
  },
  {
   "cell_type": "code",
   "execution_count": null,
   "metadata": {},
   "outputs": [],
   "source": [
    "# get average v_x in final state\n",
    "vxf=[]\n",
    "vxi=[]\n",
    "\n",
    "for state in states:\n",
    "    for mo,ro,xo,yo,vx0,vy0 in state:\n",
    "        vxf.append(vx0)\n",
    "#average = sum(abs(vxf))/len(vxf)\n",
    "\n",
    "vxf=np.array(vxf)\n",
    "average_x = sum(abs(vxf))/len(vxf)    \n",
    "average_x"
   ]
  },
  {
   "cell_type": "code",
   "execution_count": null,
   "metadata": {},
   "outputs": [],
   "source": [
    "N=100\n",
    "P =[]\n",
    "P.append(N*m*average_x/V)"
   ]
  },
  {
   "cell_type": "code",
   "execution_count": null,
   "metadata": {},
   "outputs": [],
   "source": [
    "def func(a=0,b):\n",
    "    return N*k*T/(V-N*b) - (N**2)*a/V**2"
   ]
  },
  {
   "cell_type": "markdown",
   "metadata": {},
   "source": [
    "##### pressure sim change T"
   ]
  },
  {
   "cell_type": "code",
   "execution_count": null,
   "metadata": {
    "scrolled": false
   },
   "outputs": [],
   "source": [
    "#run least squared on func with varying t \n",
    "import scipy.optimize as opt\n",
    "\n",
    "\n",
    "T = 300\n",
    "#y_train = gen_data(t_train, a, b, c, noise=0.1, n_outliers=3) \n",
    "\n",
    "\n",
    "opt.least_squares(func,P[0],b)\n"
   ]
  },
  {
   "cell_type": "code",
   "execution_count": null,
   "metadata": {},
   "outputs": [],
   "source": [
    "#vary T fix V\n",
    "def gen_data(N,T,V, a, b, noise=0, n_outliers=0, random_state=0):\n",
    "    P = N*k*T/(V-N*b) - (N**2)*a/V**2\n",
    "\n",
    "    rnd = np.random.RandomState(random_state)\n",
    "    error = noise * rnd.randn(t.size)\n",
    "    outliers = rnd.randint(0, t.size, n_outliers)\n",
    "    error[outliers] *= 10\n",
    "\n",
    "    return P + error\n",
    "#solve for b\n",
    "a = 0\n",
    "\n",
    "V=L**3\n",
    "T_min = 50\n",
    "T_max = 300\n",
    "n_points = 15\n",
    "\n",
    "T_train = np.linspace(t_min, t_max, n_points)\n",
    "P_train = gen_data(t_train, a, b, c)\n",
    "\n",
    "def fun(x, b, P):\n",
    "    return x[0]*k*x[1]/(x[2]  - x[0]*B)- P\n",
    "        \n",
    "\n",
    "x0 = np.array([1.0, 1.0, 0.0])\n",
    "                   \n",
    "res_lsq = opt.least_squares(fun, x0, args=(t_train, y_train))     \n"
   ]
  },
  {
   "cell_type": "markdown",
   "metadata": {},
   "source": [
    "##### sim change V"
   ]
  },
  {
   "cell_type": "markdown",
   "metadata": {
    "deletable": false,
    "editable": false,
    "nbgrader": {
     "cell_type": "markdown",
     "checksum": "2d77a278a7d2d05533f323cbbff28bd8",
     "grade": false,
     "grade_id": "cell-0947c7f3cf39c562",
     "locked": true,
     "schema_version": 3,
     "solution": false
    }
   },
   "source": [
    "### 4. [Extra-credit challenge!] Brownian motion\n",
    "\n",
    "If we put a single large object in a gas or fluid, it will be subject to random impulses from collisions with the many small gas/fluid molecules surrounding it.  The resulting motion of the large object is [Brownian motion](https://en.wikipedia.org/wiki/Brownian_motion), which resembles a random walk.\n",
    "\n",
    "Re-run your simulation with an initial state consisting of a gas of small particles (with non-zero radius) and one object which is much larger and much heavier.  (See appendix A for how to modify your code to handle different masses, if you haven't done that yet.)\n",
    "\n",
    "Track the motion of the large object, and show that it resembles a random walk.  To be quantitative about this, compare the expectation value $\\langle \\mathbf{r}^2 \\rangle$ versus time for your large object to the same value which you would obtain from a pure 2d random walk.  (See sections 8.6-8.7 of Langtangen for a detailed discussion of implementing random walks in Python.)"
   ]
  },
  {
   "cell_type": "markdown",
   "metadata": {},
   "source": [
    "re write new random_initial state function that does same thing but meshgrid has circular whole radius r at point x,y\n"
   ]
  },
  {
   "cell_type": "code",
   "execution_count": null,
   "metadata": {},
   "outputs": [],
   "source": [
    "\n",
    "r_b_State = random_initial_state_brownian(100,100,1,1,1,10)\n",
    "plot_state(r_b_State,100)\n",
    "\n",
    "\n"
   ]
  },
  {
   "cell_type": "code",
   "execution_count": null,
   "metadata": {},
   "outputs": [],
   "source": [
    "times,states = simulate_gas(r_b_State,10,100)"
   ]
  },
  {
   "cell_type": "code",
   "execution_count": null,
   "metadata": {},
   "outputs": [],
   "source": []
  }
 ],
 "metadata": {
  "kernelspec": {
   "display_name": "Python 3",
   "language": "python",
   "name": "python3"
  },
  "language_info": {
   "codemirror_mode": {
    "name": "ipython",
    "version": 3
   },
   "file_extension": ".py",
   "mimetype": "text/x-python",
   "name": "python",
   "nbconvert_exporter": "python",
   "pygments_lexer": "ipython3",
   "version": "3.6.8"
  }
 },
 "nbformat": 4,
 "nbformat_minor": 2
}
